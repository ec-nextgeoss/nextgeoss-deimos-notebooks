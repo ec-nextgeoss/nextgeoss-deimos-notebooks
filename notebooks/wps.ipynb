{
 "cells": [
  {
   "cell_type": "markdown",
   "metadata": {},
   "source": [
    "# NextGEOSS\n",
    "## Invoke the ITC's Multi-hazard Enhanced Risk Assessment service using JupyterLab"
   ]
  },
  {
   "cell_type": "markdown",
   "metadata": {},
   "source": [
    "### Inspect the OGC WPS capabilities"
   ]
  },
  {
   "cell_type": "code",
   "execution_count": 337,
   "metadata": {},
   "outputs": [],
   "source": [
    "from owslib.wps import WebProcessingService\n",
    "from owslib.wps import monitorExecution\n",
    "from owslib.wps import printInputOutput\n",
    "from owslib.wps import BoundingBoxDataInput"
   ]
  },
  {
   "cell_type": "code",
   "execution_count": 325,
   "metadata": {},
   "outputs": [],
   "source": [
    "wps_url = \"http://territorial-planning.deimos.nextgeoss.terradue.com/wps/WebProcessingService\""
   ]
  },
  {
   "cell_type": "code",
   "execution_count": 326,
   "metadata": {},
   "outputs": [],
   "source": [
    "wps = WebProcessingService(wps_url, verbose=False, skip_caps=True)"
   ]
  },
  {
   "cell_type": "code",
   "execution_count": 327,
   "metadata": {},
   "outputs": [],
   "source": [
    "wps.getcapabilities()"
   ]
  },
  {
   "cell_type": "code",
   "execution_count": 328,
   "metadata": {},
   "outputs": [
    {
     "name": "stdout",
     "output_type": "stream",
     "text": [
      "GetCapabilities\n",
      "DescribeProcess\n",
      "Execute\n"
     ]
    }
   ],
   "source": [
    "for operation in wps.operations:\n",
    "    print operation.name"
   ]
  },
  {
   "cell_type": "code",
   "execution_count": 329,
   "metadata": {},
   "outputs": [
    {
     "name": "stdout",
     "output_type": "stream",
     "text": [
      "com.terradue.wps_oozie.process.OozieAbstractAlgorithm\n"
     ]
    }
   ],
   "source": [
    "for process in wps.processes:\n",
    "    print process.identifier"
   ]
  },
  {
   "cell_type": "markdown",
   "metadata": {},
   "source": [
    "### Inspect the OGC WPS process information and inputs"
   ]
  },
  {
   "cell_type": "code",
   "execution_count": 330,
   "metadata": {},
   "outputs": [],
   "source": [
    "process_id = 'com.terradue.wps_oozie.process.OozieAbstractAlgorithm'\n",
    "process = wps.describeprocess(process_id)\n",
    "\n"
   ]
  },
  {
   "cell_type": "code",
   "execution_count": 331,
   "metadata": {},
   "outputs": [
    {
     "data": {
      "text/plain": [
       "'NextGEOSS7.1'"
      ]
     },
     "execution_count": 331,
     "metadata": {},
     "output_type": "execute_result"
    }
   ],
   "source": [
    "process.title"
   ]
  },
  {
   "cell_type": "code",
   "execution_count": 332,
   "metadata": {},
   "outputs": [
    {
     "data": {
      "text/plain": [
       "'Workflow of the territorial planning pilot for lulc classification'"
      ]
     },
     "execution_count": 332,
     "metadata": {},
     "output_type": "execute_result"
    }
   ],
   "source": [
    "process.abstract"
   ]
  },
  {
   "cell_type": "code",
   "execution_count": 333,
   "metadata": {},
   "outputs": [
    {
     "name": "stdout",
     "output_type": "stream",
     "text": [
      " identifier=Sources, title=..., abstract=..., data type=string\n",
      " Any value allowed\n",
      " Default Value: https://catalog.terradue.com/sentinel2/description \n",
      " minOccurs=1, maxOccurs=1\n",
      "***\n",
      " identifier=startdate, title=Start date/time, abstract=Start date/time (ISO8601), data type=string\n",
      " Any value allowed\n",
      " Default Value: 2015-07-26 \n",
      " minOccurs=1, maxOccurs=1\n",
      "***\n",
      " identifier=enddate, title=End date/time, abstract=End date/time (ISO8601), data type=string\n",
      " Any value allowed\n",
      " Default Value: 2015-08-15 \n",
      " minOccurs=1, maxOccurs=1\n",
      "***\n",
      " identifier=cc, title=Cloud Coverage, abstract=Allowed interval of cloud coverage, data type=string\n",
      " Any value allowed\n",
      " Default Value: [0,100] \n",
      " minOccurs=1, maxOccurs=1\n",
      "***\n",
      " identifier=bb, title=Bounding Box, abstract=Bounding Box, data type=BoundingBoxData\n",
      " Supported Value: urn:ogc:def:crs:EPSG:6.6:4326\n",
      " Default Value: urn:ogc:def:crs:EPSG:6.6:4326 \n",
      " minOccurs=1, maxOccurs=1\n",
      "***\n",
      " identifier=aoi, title=Bounding polygon, abstract=WKT Polygon, data type=string\n",
      " Any value allowed\n",
      " Default Value: MULTIPOLYGON (((-9.50982360559387 38.3997691791807,-9.52274358642492 39.069563901453,-8.48380377139078 39.0773171769051,-8.48054203826926 38.407340100023,-9.50982360559387 38.3997691791807))) \n",
      " minOccurs=1, maxOccurs=1\n",
      "***\n"
     ]
    }
   ],
   "source": [
    "for input in process.dataInputs:\n",
    "    printInputOutput(input)\n",
    "    print '***'"
   ]
  },
  {
   "cell_type": "markdown",
   "metadata": {},
   "source": [
    "### Prepare the execution request"
   ]
  },
  {
   "cell_type": "code",
   "execution_count": 351,
   "metadata": {},
   "outputs": [],
   "source": [
    "bbox = BoundingBoxDataInput([-9.53,38.38,-8.47,39.08])"
   ]
  },
  {
   "cell_type": "code",
   "execution_count": 352,
   "metadata": {},
   "outputs": [],
   "source": [
    "inputs = []\n",
    "inputs.append(('Sources','https://catalog.terradue.com/sentinel2/description'))\n",
    "inputs.append(('startdate','2015-07-26'))\n",
    "inputs.append(('enddate','2015-08-15'))\n",
    "inputs.append(('cc','[0,100]'))\n",
    "inputs.append(('bb',bbox))\n",
    "inputs.append(('aoi','MULTIPOLYGON (((-9.50982360559387 38.3997691791807,-9.52274358642492 39.069563901453,-8.48380377139078 39.0773171769051,-8.48054203826926 38.407340100023,-9.50982360559387 38.3997691791807)))'))\n",
    "\n",
    "\n",
    "outputs = [('result_osd',True)]"
   ]
  },
  {
   "cell_type": "markdown",
   "metadata": {},
   "source": [
    "### Execute and monitor the request"
   ]
  },
  {
   "cell_type": "code",
   "execution_count": 353,
   "metadata": {},
   "outputs": [],
   "source": [
    "execution = wps.execute(process_id, inputs, outputs)"
   ]
  },
  {
   "cell_type": "code",
   "execution_count": 354,
   "metadata": {},
   "outputs": [],
   "source": [
    "monitorExecution(execution)"
   ]
  },
  {
   "cell_type": "code",
   "execution_count": 355,
   "metadata": {},
   "outputs": [
    {
     "data": {
      "text/plain": [
       "True"
      ]
     },
     "execution_count": 355,
     "metadata": {},
     "output_type": "execute_result"
    }
   ],
   "source": [
    "execution.isSucceded()"
   ]
  },
  {
   "cell_type": "markdown",
   "metadata": {},
   "source": [
    "### Access the results' OpenSearch Description (osd)"
   ]
  },
  {
   "cell_type": "code",
   "execution_count": 356,
   "metadata": {},
   "outputs": [
    {
     "name": "stdout",
     "output_type": "stream",
     "text": [
      "result_osd\n"
     ]
    }
   ],
   "source": [
    "for output in execution.processOutputs:\n",
    "    print(output.identifier)"
   ]
  },
  {
   "cell_type": "code",
   "execution_count": 357,
   "metadata": {},
   "outputs": [],
   "source": [
    "results_osd = execution.processOutputs[0].reference"
   ]
  },
  {
   "cell_type": "code",
   "execution_count": 358,
   "metadata": {},
   "outputs": [
    {
     "name": "stdout",
     "output_type": "stream",
     "text": [
      "http://territorial-planning.deimos.nextgeoss.terradue.com/wps/RetrieveResultServlet?id=bd6494e7-79c3-449e-9562-d9721a9ca130result_osd.3a36b136-bcd5-4e3b-987b-7bab9ebdd8b1\n"
     ]
    }
   ],
   "source": [
    "print results_osd"
   ]
  },
  {
   "cell_type": "code",
   "execution_count": 359,
   "metadata": {},
   "outputs": [
    {
     "data": {
      "text/plain": [
       "u'<?xml version=\\'1.0\\' encoding=\\'UTF-8\\'?><ns:Reference xmlns:ns=\"http://www.opengis.net/wps/1.0.0\" href=\"http://territorial-planning.deimos.nextgeoss.terradue.com/sbws/wps/workflow/0000010-190709165332500-oozie-oozi-W/results/description\" method=\"GET\" mimeType=\"application/opensearchdescription+xml\"/>'"
      ]
     },
     "execution_count": 359,
     "metadata": {},
     "output_type": "execute_result"
    }
   ],
   "source": [
    "import requests\n",
    "r = requests.get(results_osd)\n",
    "r.text"
   ]
  },
  {
   "cell_type": "code",
   "execution_count": 360,
   "metadata": {},
   "outputs": [
    {
     "data": {
      "text/plain": [
       "'http://territorial-planning.deimos.nextgeoss.terradue.com/sbws/wps/workflow/0000010-190709165332500-oozie-oozi-W/results/description'"
      ]
     },
     "execution_count": 360,
     "metadata": {},
     "output_type": "execute_result"
    }
   ],
   "source": [
    "import xml.etree.ElementTree as ET\n",
    "root = ET.fromstring(r.text)\n",
    "root.attrib['href']"
   ]
  },
  {
   "cell_type": "markdown",
   "metadata": {},
   "source": [
    "### Perform an OpenSearch query for the results enclosures"
   ]
  },
  {
   "cell_type": "code",
   "execution_count": 361,
   "metadata": {},
   "outputs": [],
   "source": [
    "import cioppy"
   ]
  },
  {
   "cell_type": "code",
   "execution_count": 362,
   "metadata": {},
   "outputs": [],
   "source": [
    "ciop = cioppy.Cioppy()"
   ]
  },
  {
   "cell_type": "code",
   "execution_count": 363,
   "metadata": {},
   "outputs": [],
   "source": [
    "search = ciop.search(end_point = root.attrib['href'],\n",
    "                     params = [],\n",
    "                     output_fields='enclosure')"
   ]
  },
  {
   "cell_type": "code",
   "execution_count": 364,
   "metadata": {},
   "outputs": [
    {
     "name": "stdout",
     "output_type": "stream",
     "text": [
      "http://territorial-planning.deimos.nextgeoss.terradue.com/data/run/workflow/0000010-190709165332500-oozie-oozi-W/_results/L2A_T29SMC_A000506_20150728T113618_LULC.zip\n",
      "http://territorial-planning.deimos.nextgeoss.terradue.com/data/run/workflow/0000010-190709165332500-oozie-oozi-W/_results/L2A_T29SMD_A000506_20150728T113618_LULC.zip\n",
      "http://territorial-planning.deimos.nextgeoss.terradue.com/data/run/workflow/0000010-190709165332500-oozie-oozi-W/_results/L2A_T29SNC_A000506_20150728T113618_LULC.zip\n",
      "http://territorial-planning.deimos.nextgeoss.terradue.com/data/run/workflow/0000010-190709165332500-oozie-oozi-W/_results/L2A_T29SND_A000506_20150728T113618_LULC.zip\n"
     ]
    }
   ],
   "source": [
    "for result in search:\n",
    "    print result['enclosure']"
   ]
  },
  {
   "cell_type": "markdown",
   "metadata": {},
   "source": [
    "### Download an output file"
   ]
  },
  {
   "cell_type": "markdown",
   "metadata": {},
   "source": [
    "The following section can be leveraged when published results are available."
   ]
  },
  {
   "cell_type": "code",
   "execution_count": 24,
   "metadata": {},
   "outputs": [],
   "source": [
    "#search[0]['enclosure']"
   ]
  },
  {
   "cell_type": "code",
   "execution_count": 25,
   "metadata": {},
   "outputs": [],
   "source": [
    "#r = requests.get(search[0]['enclosure'],stream=True)"
   ]
  },
  {
   "cell_type": "code",
   "execution_count": 26,
   "metadata": {},
   "outputs": [],
   "source": [
    "#with open('output', 'wb') as fd:\n",
    "#    for chunk in r.iter_content(chunk_size=128):\n",
    "#        fd.write(chunk)"
   ]
  }
 ],
 "metadata": {
  "kernelspec": {
   "display_name": "Python [conda env:python2]",
   "language": "python",
   "name": "conda-env-python2-py"
  },
  "language_info": {
   "codemirror_mode": {
    "name": "ipython",
    "version": 2
   },
   "file_extension": ".py",
   "mimetype": "text/x-python",
   "name": "python",
   "nbconvert_exporter": "python",
   "pygments_lexer": "ipython2",
   "version": "2.7.12"
  }
 },
 "nbformat": 4,
 "nbformat_minor": 2
}
